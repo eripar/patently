{
 "cells": [
  {
   "cell_type": "markdown",
   "metadata": {},
   "source": [
    "# Notebook that scrapes from Google Patents and pre-processed the data for analysis"
   ]
  },
  {
   "cell_type": "markdown",
   "metadata": {},
   "source": [
    "Requires that patent numbers are known and included in a csv. Go to Google BigQuery and download patent information of interest.  Get patent numbers that you want to include.  Then scrape all the data to analyze."
   ]
  },
  {
   "cell_type": "code",
   "execution_count": 1,
   "metadata": {
    "ExecuteTime": {
     "end_time": "2019-11-04T20:14:59.367002Z",
     "start_time": "2019-11-04T20:14:57.849565Z"
    }
   },
   "outputs": [],
   "source": [
    "import os\n",
    "import pandas as pd\n",
    "import re\n",
    "\n",
    "from requests import get\n",
    "from requests.exceptions import RequestException\n",
    "from contextlib import closing\n",
    "\n",
    "from bs4 import BeautifulSoup\n",
    "import pickle\n",
    "import json\n",
    "\n",
    "import string\n",
    "import datetime\n",
    "\n",
    "import spacy\n",
    "import string\n",
    "from spacy.lang.en.stop_words import STOP_WORDS\n",
    "from spacy.lang.en import English\n",
    "import en_core_web_sm"
   ]
  },
  {
   "cell_type": "code",
   "execution_count": 2,
   "metadata": {
    "ExecuteTime": {
     "end_time": "2019-11-04T20:14:59.474714Z",
     "start_time": "2019-11-04T20:14:59.457761Z"
    }
   },
   "outputs": [
    {
     "data": {
      "text/html": [
       "<style>.container { width:100% !important; }</style>"
      ],
      "text/plain": [
       "<IPython.core.display.HTML object>"
      ]
     },
     "metadata": {},
     "output_type": "display_data"
    }
   ],
   "source": [
    "from IPython.core.display import display, HTML\n",
    "display(HTML(\"<style>.container { width:100% !important; }</style>\"))\n",
    "\n",
    "import warnings\n",
    "warnings.filterwarnings(\"ignore\")\n",
    "\n",
    "os.chdir('..')"
   ]
  },
  {
   "cell_type": "markdown",
   "metadata": {},
   "source": [
    "## Code to scrape Google Patents for documents of interest"
   ]
  },
  {
   "cell_type": "code",
   "execution_count": null,
   "metadata": {
    "ExecuteTime": {
     "end_time": "2019-11-04T16:20:34.039515Z",
     "start_time": "2019-11-04T16:20:33.996634Z"
    }
   },
   "outputs": [],
   "source": [
    "data = pd.read_csv('data/processed/electrochemistry_patent_numbers.csv')\n",
    "data_pat_id_list = data['patent_id'].tolist()\n",
    "\n",
    "\"\"\"\n",
    "Because the 12,000 patents take hours to scrape.  I will only include the data of the first 20 in this repo.\n",
    "\"\"\"\n",
    "data_pat_id_list  = data_pat_id_list[0:20]"
   ]
  },
  {
   "cell_type": "code",
   "execution_count": null,
   "metadata": {
    "ExecuteTime": {
     "end_time": "2019-11-04T16:20:35.518728Z",
     "start_time": "2019-11-04T16:20:35.507788Z"
    }
   },
   "outputs": [],
   "source": [
    "def simple_get(url):\n",
    "    \"\"\"\n",
    "    Attempts to get the content at `url` by making an HTTP GET request.\n",
    "    If the content-type of response is some kind of HTML/XML, return the\n",
    "    text content, otherwise return None.\n",
    "    \"\"\"\n",
    "    try:\n",
    "        with closing(get(url, stream=True)) as resp:\n",
    "            if is_good_response(resp):\n",
    "                return resp.content\n",
    "            else:\n",
    "                return None\n",
    "\n",
    "    except RequestException as e:\n",
    "        log_error('Error during requests to {0} : {1}'.format(url, str(e)))\n",
    "        return None\n",
    "\n",
    "def is_good_response(resp):\n",
    "    \"\"\"\n",
    "    Returns True if the response seems to be HTML, False otherwise.\n",
    "    \"\"\"\n",
    "    content_type = resp.headers['Content-Type'].lower()\n",
    "    return (resp.status_code == 200 \n",
    "            and content_type is not None \n",
    "            and content_type.find('html') > -1)\n",
    "\n",
    "def log_error(e):\n",
    "    \"\"\"\n",
    "    It is always a good idea to log errors. \n",
    "    This function just prints them, but you can\n",
    "    make it do anything.\n",
    "    \"\"\"\n",
    "    print(e)\n",
    "    \n",
    "def scrape_google_patent_list(patent_list):\n",
    "    pat_dict_scraped = {}\n",
    "    for i in pat_to_scrape:\n",
    "        print(i)\n",
    "        url_str = 'https://patents.google.com/patent/US'+i\n",
    "        raw_html = simple_get(url_str)\n",
    "        pat_dict_scraped[i]={'url':url_str, 'html':raw_html}\n",
    "    return pat_dict_scraped"
   ]
  },
  {
   "cell_type": "code",
   "execution_count": null,
   "metadata": {
    "ExecuteTime": {
     "end_time": "2019-11-04T16:20:42.145488Z",
     "start_time": "2019-11-04T16:20:42.125542Z"
    }
   },
   "outputs": [],
   "source": [
    "def from_scraped_google_patent_into_dict(patent_id, single_html_scraped):\n",
    "    \n",
    "    html = BeautifulSoup(single_html_scraped, 'html.parser')\n",
    "\n",
    "    \"\"\"\n",
    "    This is the information most relevant for the analysis.\n",
    "    Extract it from the html and convert it into a dictionary\n",
    "    \"\"\"\n",
    "    columns = ['patent_id', 'us_reference_list', 'inventor_list','abstract','background', 'claims', \n",
    "               'keywords_list', 'status', 'priorArtData', 'assignee', 'title', 'image_list']\n",
    "    \n",
    "    single_dict = {}\n",
    "\n",
    "    single_dict['patent_id']=patent_id\n",
    "\n",
    "    # extract patent reference list from the soup\n",
    "    reference_soup = html.find_all(\"meta\", scheme=\"references\")\n",
    "    us_reference_list = []\n",
    "    for i in reference_soup:\n",
    "        us_reference_list.append( re.sub( \"[^0-9]\", \"\", str(i) )) \n",
    "    single_dict['us_reference_list']=us_reference_list\n",
    "\n",
    "    # extract patent inventor list from the soup    \n",
    "    inventor_soup = html.find_all(\"meta\", scheme=\"inventor\")\n",
    "    inventor_list = []\n",
    "    for i in inventor_soup:\n",
    "        inventor_list.append( i.get('content' )) \n",
    "    single_dict['inventor_list']=list(inventor_list)\n",
    "\n",
    "    #print( html.find('dd', attrs={'itemprop':'assigneeCurrent'}) )\n",
    "    if html.find('dd', attrs={'itemprop':'assigneeCurrent'}) is not None:\n",
    "        single_dict['assignee'] = html.find('dd', attrs={'itemprop':'assigneeCurrent'}).text\n",
    "    else: single_dict['assignee'] = html.find(\"meta\", scheme=\"assignee\").get('content')\n",
    "\n",
    "    # extract patent keywords\n",
    "    keywords_soup = html.find_all('dd', attrs={'itemprop':'priorArtKeywords'})\n",
    "    keywords_list = []\n",
    "    for i in keywords_soup:\n",
    "        keywords_list.append(i.text)\n",
    "    single_dict['keywords_list']=keywords_list\n",
    "\n",
    "    # extract patent status, prior art date, current assignee, and title\n",
    "    single_dict['status'] = html.find(\"span\", attrs={'itemprop':\"status\"}).text\n",
    "    single_dict['priorArtData'] = html.find(\"time\", attrs={'itemprop':'priorArtDate'}).text\n",
    "    single_dict['title'] = html.title.text #this includes the Google patents 'logo' -> remove in pre-processing\n",
    "\n",
    "    # extract abstract\n",
    "    if html.find(\"div\", attrs={\"class\":\"abstract\"}) is not None:\n",
    "        single_dict['abstract'] = html.find(\"div\", attrs={\"class\":\"abstract\"}).text\n",
    "    else: single_dict['abstract'] = html.title.text\n",
    "    \n",
    "    # extract background\n",
    "    if html.find(\"div\", attrs={\"class\":\"description\"}) is not None:\n",
    "        single_dict['background'] = html.find(\"div\", attrs={\"class\":\"description\"}).text\n",
    "    else: single_dict['background'] = html.title.text\n",
    "    \n",
    "    # extract claims \n",
    "    if html.find(\"div\", attrs={\"class\":\"claims\"}) is not None:\n",
    "        single_dict['claims'] = html.find(\"div\", attrs={\"class\":\"claims\"}).text\n",
    "    else: single_dict['claims'] = html.title.text\n",
    "    \n",
    "    #image links\n",
    "    image_soup = html.find_all(\"meta\", attrs={'itemprop':'full'})\n",
    "    image_list = []\n",
    "    for i in image_soup:\n",
    "        image_list.append(i.get('content'))\n",
    "    single_dict['image_list']=image_list\n",
    "\n",
    "    # classification list\n",
    "    class_list_soup = html.find_all(\"span\", attrs={'itemprop':\"Code\"})\n",
    "    class_list = []\n",
    "    for i in class_list_soup:\n",
    "        class_list.append(i.text)\n",
    "    single_dict['class_list']=class_list\n",
    "    \n",
    "    class_description_soup = html.find_all(\"span\", attrs={'itemprop':\"Description\"})\n",
    "    class_description_list = []\n",
    "    for i in class_description_soup:\n",
    "        class_description_list.append(i.text)\n",
    "    single_dict['class_description_list']=class_description_list\n",
    "    \n",
    "    return single_dict\n",
    "\n",
    "def patent_dict_from_list( patent_list_to_scrape, pat_dict_scraped ):\n",
    "    patent_dataset = {}\n",
    "    patent_list_scraped = pat_dict_scraped\n",
    "    patent_none = []\n",
    "    for i in range( len(patent_list_to_scrape) ):\n",
    "        if patent_list_scraped[patent_list_to_scrape[i]]['html'] is not None:\n",
    "            single_patent_clean_dict = from_scraped_google_patent_into_dict(patent_list_to_scrape[i], \n",
    "                                                                        patent_list_scraped[patent_list_to_scrape[i]]['html'] )\n",
    "            patent_dataset[patent_list_to_scrape[i]] = single_patent_clean_dict\n",
    "        else: patent_none.append(patent_list_to_scrape[i])\n",
    "    patent_dataset['HTMLnotFound']=patent_none\n",
    "    return patent_dataset"
   ]
  },
  {
   "cell_type": "code",
   "execution_count": null,
   "metadata": {
    "ExecuteTime": {
     "end_time": "2019-11-04T16:21:23.441367Z",
     "start_time": "2019-11-04T16:21:11.935901Z"
    },
    "scrolled": false
   },
   "outputs": [],
   "source": [
    "patent_list_to_scrape = data_pat_id_list[::-1]\n",
    "pat_to_scrape = patent_list_to_scrape \n",
    "\n",
    "# run scraping function above that downloads raw html from google patents when given a list\n",
    "scraped_patents = scrape_google_patent_list(pat_to_scrape)  \n",
    "\n",
    "outfile = open('data/raw/scraped_patents_html','wb')\n",
    "pickle.dump(scraped_patents,outfile)\n",
    "outfile.close()\n",
    "\n",
    "\"\"\"\n",
    "To open the raw html is already on file:\n",
    "scraped_patents = pickle.load( open( 'data/raw/scraped_patents_html', \"rb\" ) )\n",
    "\"\"\""
   ]
  },
  {
   "cell_type": "code",
   "execution_count": null,
   "metadata": {
    "ExecuteTime": {
     "end_time": "2019-11-04T17:13:51.997220Z",
     "start_time": "2019-11-04T17:13:51.986250Z"
    },
    "scrolled": true
   },
   "outputs": [],
   "source": [
    "# run function above that extracts information from raw download - could take a while\n",
    "\n",
    "patent_dataset = patent_dict_from_list( pat_to_scrape, scraped_patents )\n",
    "\n",
    "with open('data/processed/scraped_patents_dictionary.json', 'w') as f:\n",
    "    json.dump(patent_dataset, f)\n"
   ]
  },
  {
   "cell_type": "markdown",
   "metadata": {},
   "source": [
    "## If scraped HTML file is already downloaded, then proceed to clean up with following code"
   ]
  },
  {
   "cell_type": "code",
   "execution_count": 3,
   "metadata": {
    "ExecuteTime": {
     "end_time": "2019-11-04T20:15:03.571808Z",
     "start_time": "2019-11-04T20:15:03.561830Z"
    }
   },
   "outputs": [],
   "source": [
    "with open('data/processed/scraped_patents_dictionary.json') as f:\n",
    "    my_dict = json.load(f)"
   ]
  },
  {
   "cell_type": "code",
   "execution_count": 4,
   "metadata": {
    "ExecuteTime": {
     "end_time": "2019-11-04T20:15:04.292253Z",
     "start_time": "2019-11-04T20:15:04.283308Z"
    }
   },
   "outputs": [
    {
     "name": "stdout",
     "output_type": "stream",
     "text": [
      "Patents that not found during scraping:\n"
     ]
    },
    {
     "data": {
      "text/plain": [
       "[]"
      ]
     },
     "execution_count": 4,
     "metadata": {},
     "output_type": "execute_result"
    }
   ],
   "source": [
    "print('Patents that not found during scraping:')\n",
    "my_dict['HTMLnotFound']\n",
    "my_dict.pop('HTMLnotFound')"
   ]
  },
  {
   "cell_type": "code",
   "execution_count": 5,
   "metadata": {
    "ExecuteTime": {
     "end_time": "2019-11-04T20:15:05.029723Z",
     "start_time": "2019-11-04T20:15:04.975873Z"
    }
   },
   "outputs": [],
   "source": [
    "df = pd.DataFrame.from_dict(my_dict, orient='index')\n",
    "df['priorArtData'] = pd.to_datetime(df['priorArtData'] ,infer_datetime_format=True) \n",
    "df['year'] = df['priorArtData'].apply(lambda x: x.year)\n",
    "df['assignee']=df['assignee'].str.replace('\\n', '')\n",
    "\n",
    "df['title']=df['title'].apply(lambda x: x.split()[2:-3])\n",
    "df['title']=df['title'].apply(lambda x: ' '.join(x))\n",
    "df['abstract']=df['abstract'].apply(lambda x: x.split())\n",
    "df['abstract']=df['abstract'].apply(lambda x: ' '.join(x))\n",
    "df['background']=df['background'].apply(lambda x: x.split())\n",
    "df['background']=df['background'].apply(lambda x: ' '.join(x) )\n",
    "df['claims']=df['claims'].apply(lambda x: x.split())\n",
    "df['claims']=df['claims'].apply(lambda x: ' '.join(x))"
   ]
  },
  {
   "cell_type": "code",
   "execution_count": 6,
   "metadata": {
    "ExecuteTime": {
     "end_time": "2019-11-04T20:15:05.798621Z",
     "start_time": "2019-11-04T20:15:05.755746Z"
    }
   },
   "outputs": [
    {
     "data": {
      "text/html": [
       "<div>\n",
       "<style scoped>\n",
       "    .dataframe tbody tr th:only-of-type {\n",
       "        vertical-align: middle;\n",
       "    }\n",
       "\n",
       "    .dataframe tbody tr th {\n",
       "        vertical-align: top;\n",
       "    }\n",
       "\n",
       "    .dataframe thead th {\n",
       "        text-align: right;\n",
       "    }\n",
       "</style>\n",
       "<table border=\"1\" class=\"dataframe\">\n",
       "  <thead>\n",
       "    <tr style=\"text-align: right;\">\n",
       "      <th></th>\n",
       "      <th>patent_id</th>\n",
       "      <th>us_reference_list</th>\n",
       "      <th>inventor_list</th>\n",
       "      <th>assignee</th>\n",
       "      <th>keywords_list</th>\n",
       "      <th>status</th>\n",
       "      <th>priorArtData</th>\n",
       "      <th>title</th>\n",
       "      <th>abstract</th>\n",
       "      <th>background</th>\n",
       "      <th>claims</th>\n",
       "      <th>image_list</th>\n",
       "      <th>class_list</th>\n",
       "      <th>class_description_list</th>\n",
       "      <th>year</th>\n",
       "    </tr>\n",
       "  </thead>\n",
       "  <tbody>\n",
       "    <tr>\n",
       "      <th>3930883</th>\n",
       "      <td>3930883</td>\n",
       "      <td>[3272653, 3427203, 3607409, 3516862, 3671319, ...</td>\n",
       "      <td>[Ludwig Kandler]</td>\n",
       "      <td>Rheinisch Westfalisches Elektrizitatswerk ...</td>\n",
       "      <td>[zinc, calcium, ion, electrode, hydroxide]</td>\n",
       "      <td>Expired - Lifetime</td>\n",
       "      <td>1969-08-16</td>\n",
       "      <td>Zinc-containing electrode</td>\n",
       "      <td>A zinc negative electrode for alkaline accumul...</td>\n",
       "      <td>This is a continuation of application Ser. No....</td>\n",
       "      <td>I claim: 1. A method of making a negative elec...</td>\n",
       "      <td>[https://patentimages.storage.googleapis.com/5...</td>\n",
       "      <td>[H, H01, H01M, H01M4/00, H01M4/02, H01M4/24, H...</td>\n",
       "      <td>[ELECTRICITY, BASIC ELECTRIC ELEMENTS, PROCESS...</td>\n",
       "      <td>1969</td>\n",
       "    </tr>\n",
       "    <tr>\n",
       "      <th>3930885</th>\n",
       "      <td>3930885</td>\n",
       "      <td>[2624767, 2783291, 2852592, 3294589, 3468715, ...</td>\n",
       "      <td>[Arabinda N. Dey]</td>\n",
       "      <td>Duracell Inc</td>\n",
       "      <td>[cell, electrolyte, plunger, casing, lid]</td>\n",
       "      <td>Expired - Lifetime</td>\n",
       "      <td>1973-01-11</td>\n",
       "      <td>Organic electrolyte reserve cell</td>\n",
       "      <td>A reserve cell is described for providing elec...</td>\n",
       "      <td>FIELD OF THE INVENTION This invention relates ...</td>\n",
       "      <td>What is claimed is: 1. An organic electrolyte ...</td>\n",
       "      <td>[https://patentimages.storage.googleapis.com/8...</td>\n",
       "      <td>[H, H01, H01M, H01M6/00, H01M6/30, H01M6/36, H...</td>\n",
       "      <td>[ELECTRICITY, BASIC ELECTRIC ELEMENTS, PROCESS...</td>\n",
       "      <td>1973</td>\n",
       "    </tr>\n",
       "    <tr>\n",
       "      <th>3930976</th>\n",
       "      <td>3930976</td>\n",
       "      <td>[2256733, 667471, 2756203, 2844532, 3234117, 3...</td>\n",
       "      <td>[John Cadwaladr Owen]</td>\n",
       "      <td>Elster Metering Holdings Ltd</td>\n",
       "      <td>[tube, plug, electrolyte, glass, electrical]</td>\n",
       "      <td>Expired - Lifetime</td>\n",
       "      <td>1971-07-20</td>\n",
       "      <td>Glass electrode assembly</td>\n",
       "      <td>An electrochemical glass electrode comprising ...</td>\n",
       "      <td>This application is a Continuation-in-Part of ...</td>\n",
       "      <td>I claim: 1. An electrochemical electrode assem...</td>\n",
       "      <td>[https://patentimages.storage.googleapis.com/2...</td>\n",
       "      <td>[G, G01, G01N, G01N27/00, G01N27/26, G01N27/28...</td>\n",
       "      <td>[PHYSICS, MEASURING; TESTING, INVESTIGATING OR...</td>\n",
       "      <td>1971</td>\n",
       "    </tr>\n",
       "  </tbody>\n",
       "</table>\n",
       "</div>"
      ],
      "text/plain": [
       "        patent_id                                  us_reference_list  \\\n",
       "3930883   3930883  [3272653, 3427203, 3607409, 3516862, 3671319, ...   \n",
       "3930885   3930885  [2624767, 2783291, 2852592, 3294589, 3468715, ...   \n",
       "3930976   3930976  [2256733, 667471, 2756203, 2844532, 3234117, 3...   \n",
       "\n",
       "                 inventor_list  \\\n",
       "3930883       [Ludwig Kandler]   \n",
       "3930885      [Arabinda N. Dey]   \n",
       "3930976  [John Cadwaladr Owen]   \n",
       "\n",
       "                                                  assignee  \\\n",
       "3930883      Rheinisch Westfalisches Elektrizitatswerk ...   \n",
       "3930885                                     Duracell Inc     \n",
       "3930976                     Elster Metering Holdings Ltd     \n",
       "\n",
       "                                        keywords_list              status  \\\n",
       "3930883    [zinc, calcium, ion, electrode, hydroxide]  Expired - Lifetime   \n",
       "3930885     [cell, electrolyte, plunger, casing, lid]  Expired - Lifetime   \n",
       "3930976  [tube, plug, electrolyte, glass, electrical]  Expired - Lifetime   \n",
       "\n",
       "        priorArtData                             title  \\\n",
       "3930883   1969-08-16         Zinc-containing electrode   \n",
       "3930885   1973-01-11  Organic electrolyte reserve cell   \n",
       "3930976   1971-07-20          Glass electrode assembly   \n",
       "\n",
       "                                                  abstract  \\\n",
       "3930883  A zinc negative electrode for alkaline accumul...   \n",
       "3930885  A reserve cell is described for providing elec...   \n",
       "3930976  An electrochemical glass electrode comprising ...   \n",
       "\n",
       "                                                background  \\\n",
       "3930883  This is a continuation of application Ser. No....   \n",
       "3930885  FIELD OF THE INVENTION This invention relates ...   \n",
       "3930976  This application is a Continuation-in-Part of ...   \n",
       "\n",
       "                                                    claims  \\\n",
       "3930883  I claim: 1. A method of making a negative elec...   \n",
       "3930885  What is claimed is: 1. An organic electrolyte ...   \n",
       "3930976  I claim: 1. An electrochemical electrode assem...   \n",
       "\n",
       "                                                image_list  \\\n",
       "3930883  [https://patentimages.storage.googleapis.com/5...   \n",
       "3930885  [https://patentimages.storage.googleapis.com/8...   \n",
       "3930976  [https://patentimages.storage.googleapis.com/2...   \n",
       "\n",
       "                                                class_list  \\\n",
       "3930883  [H, H01, H01M, H01M4/00, H01M4/02, H01M4/24, H...   \n",
       "3930885  [H, H01, H01M, H01M6/00, H01M6/30, H01M6/36, H...   \n",
       "3930976  [G, G01, G01N, G01N27/00, G01N27/26, G01N27/28...   \n",
       "\n",
       "                                    class_description_list  year  \n",
       "3930883  [ELECTRICITY, BASIC ELECTRIC ELEMENTS, PROCESS...  1969  \n",
       "3930885  [ELECTRICITY, BASIC ELECTRIC ELEMENTS, PROCESS...  1973  \n",
       "3930976  [PHYSICS, MEASURING; TESTING, INVESTIGATING OR...  1971  "
      ]
     },
     "execution_count": 6,
     "metadata": {},
     "output_type": "execute_result"
    }
   ],
   "source": [
    "df.head(3)"
   ]
  },
  {
   "cell_type": "code",
   "execution_count": 7,
   "metadata": {
    "ExecuteTime": {
     "end_time": "2019-11-04T20:15:15.432608Z",
     "start_time": "2019-11-04T20:15:15.071462Z"
    },
    "hide_input": false
   },
   "outputs": [],
   "source": [
    "punctuations = string.punctuation\n",
    "#print(punctuations)\n",
    "nlp = spacy.load(\"en_core_web_sm\")\n",
    "stop_words = spacy.lang.en.stop_words.STOP_WORDS\n",
    "parser = English()\n",
    "\n",
    "nlp.Defaults.stop_words |= {\"electrochemical\",\"electrochemistry\",\"comprise\", \"invention\",\"composition\",\\\n",
    "                            \"form\",\"include\",\"active\",\"method\",\"compound\",\"group\",\"present\",\"provide\",\\\n",
    "                            \"produce\",\"contain\", \"+\", \"'\", \"\\ufeff1\", \"present\",\"little\", \"',\", \\\n",
    "                            \"/sub\", \"\\\\ufeff1\", \"e.g.\", \"invention\", \"b\", \", \", \"' \", \"e.g.\", \"wt%\", \"novel\", 'claim' }\n",
    "\n",
    "\n",
    "def convert_str_to_tokens(input_string):\n",
    "    mytokens = []\n",
    "    mytokens_out = []\n",
    "    mytokens = parser( input_string )\n",
    "    mytokens = [ word.lemma_.lower().strip() if word.lemma_ !='-PRON-' else word.lower_ for word in mytokens ]\n",
    "    mytokens = [ word for word in mytokens if word not in stop_words and word not in punctuations ] \n",
    "    mytokens = nlp( str( mytokens )) \n",
    "    for word in mytokens: \n",
    "        mytoken = (word.pos_!='VERB') & (word.pos_!='PUNCT') & (word.pos_!='CCONJ') & (word.pos_!='ADV') & (word.pos_!='NUM') & (word.pos_!='X')\n",
    "        if mytoken:\n",
    "            mytokens_out.append(word)\n",
    "    mytokens_out = mytokens_out[0:1000]\n",
    "    return str( mytokens_out ).replace(\" ',\", \"\")\n",
    "\n",
    "def tokenize_series(df, columns_to_tokenize):\n",
    "    for j in columns_to_tokenize:\n",
    "        for i in df.index:\n",
    "           df.loc[i, j+'_tokens']=convert_str_to_tokens( df.loc[i, j] )\n",
    "    return df\n"
   ]
  },
  {
   "cell_type": "code",
   "execution_count": 8,
   "metadata": {
    "ExecuteTime": {
     "end_time": "2019-11-04T20:15:55.393182Z",
     "start_time": "2019-11-04T20:15:17.687017Z"
    }
   },
   "outputs": [
    {
     "data": {
      "text/html": [
       "<div>\n",
       "<style scoped>\n",
       "    .dataframe tbody tr th:only-of-type {\n",
       "        vertical-align: middle;\n",
       "    }\n",
       "\n",
       "    .dataframe tbody tr th {\n",
       "        vertical-align: top;\n",
       "    }\n",
       "\n",
       "    .dataframe thead th {\n",
       "        text-align: right;\n",
       "    }\n",
       "</style>\n",
       "<table border=\"1\" class=\"dataframe\">\n",
       "  <thead>\n",
       "    <tr style=\"text-align: right;\">\n",
       "      <th></th>\n",
       "      <th>patent_id</th>\n",
       "      <th>us_reference_list</th>\n",
       "      <th>inventor_list</th>\n",
       "      <th>assignee</th>\n",
       "      <th>keywords_list</th>\n",
       "      <th>status</th>\n",
       "      <th>priorArtData</th>\n",
       "      <th>title</th>\n",
       "      <th>abstract</th>\n",
       "      <th>image_list</th>\n",
       "      <th>class_list</th>\n",
       "      <th>class_description_list</th>\n",
       "      <th>year</th>\n",
       "      <th>title_tokens</th>\n",
       "      <th>abstract_tokens</th>\n",
       "      <th>background_tokens</th>\n",
       "      <th>claims_tokens</th>\n",
       "    </tr>\n",
       "  </thead>\n",
       "  <tbody>\n",
       "    <tr>\n",
       "      <th>3930883</th>\n",
       "      <td>3930883</td>\n",
       "      <td>[3272653, 3427203, 3607409, 3516862, 3671319, ...</td>\n",
       "      <td>[Ludwig Kandler]</td>\n",
       "      <td>Rheinisch Westfalisches Elektrizitatswerk ...</td>\n",
       "      <td>[zinc, calcium, ion, electrode, hydroxide]</td>\n",
       "      <td>Expired - Lifetime</td>\n",
       "      <td>1969-08-16</td>\n",
       "      <td>Zinc-containing electrode</td>\n",
       "      <td>A zinc negative electrode for alkaline accumul...</td>\n",
       "      <td>[https://patentimages.storage.googleapis.com/5...</td>\n",
       "      <td>[H, H01, H01M, H01M4/00, H01M4/02, H01M4/24, H...</td>\n",
       "      <td>[ELECTRICITY, BASIC ELECTRIC ELEMENTS, PROCESS...</td>\n",
       "      <td>1969</td>\n",
       "      <td>[zinc, electrode]</td>\n",
       "      <td>[zinc, negative, electrode, alkaline, accumula...</td>\n",
       "      <td>[continuation, application, file, october, tur...</td>\n",
       "      <td>[negative, electrode, alkaline, accumulator, s...</td>\n",
       "    </tr>\n",
       "    <tr>\n",
       "      <th>3930885</th>\n",
       "      <td>3930885</td>\n",
       "      <td>[2624767, 2783291, 2852592, 3294589, 3468715, ...</td>\n",
       "      <td>[Arabinda N. Dey]</td>\n",
       "      <td>Duracell Inc</td>\n",
       "      <td>[cell, electrolyte, plunger, casing, lid]</td>\n",
       "      <td>Expired - Lifetime</td>\n",
       "      <td>1973-01-11</td>\n",
       "      <td>Organic electrolyte reserve cell</td>\n",
       "      <td>A reserve cell is described for providing elec...</td>\n",
       "      <td>[https://patentimages.storage.googleapis.com/8...</td>\n",
       "      <td>[H, H01, H01M, H01M6/00, H01M6/30, H01M6/36, H...</td>\n",
       "      <td>[ELECTRICITY, BASIC ELECTRIC ELEMENTS, PROCESS...</td>\n",
       "      <td>1973</td>\n",
       "      <td>[organic, electrolyte, reserve, cell]</td>\n",
       "      <td>[reserve, cell, energy, capable, shelf, life, ...</td>\n",
       "      <td>[field, reserve, energy, source, reserve, cell...</td>\n",
       "      <td>[organic, electrolyte, reserve, cell, cell, ca...</td>\n",
       "    </tr>\n",
       "    <tr>\n",
       "      <th>3930976</th>\n",
       "      <td>3930976</td>\n",
       "      <td>[2256733, 667471, 2756203, 2844532, 3234117, 3...</td>\n",
       "      <td>[John Cadwaladr Owen]</td>\n",
       "      <td>Elster Metering Holdings Ltd</td>\n",
       "      <td>[tube, plug, electrolyte, glass, electrical]</td>\n",
       "      <td>Expired - Lifetime</td>\n",
       "      <td>1971-07-20</td>\n",
       "      <td>Glass electrode assembly</td>\n",
       "      <td>An electrochemical glass electrode comprising ...</td>\n",
       "      <td>[https://patentimages.storage.googleapis.com/2...</td>\n",
       "      <td>[G, G01, G01N, G01N27/00, G01N27/26, G01N27/28...</td>\n",
       "      <td>[PHYSICS, MEASURING; TESTING, INVESTIGATING OR...</td>\n",
       "      <td>1971</td>\n",
       "      <td>[glass, electrode, assembly]</td>\n",
       "      <td>[glass, electrode, glass, membrane, seal, end,...</td>\n",
       "      <td>[application, continuation, application, file,...</td>\n",
       "      <td>[electrode, assembly, tube, glass, terminate, ...</td>\n",
       "    </tr>\n",
       "  </tbody>\n",
       "</table>\n",
       "</div>"
      ],
      "text/plain": [
       "        patent_id                                  us_reference_list  \\\n",
       "3930883   3930883  [3272653, 3427203, 3607409, 3516862, 3671319, ...   \n",
       "3930885   3930885  [2624767, 2783291, 2852592, 3294589, 3468715, ...   \n",
       "3930976   3930976  [2256733, 667471, 2756203, 2844532, 3234117, 3...   \n",
       "\n",
       "                 inventor_list  \\\n",
       "3930883       [Ludwig Kandler]   \n",
       "3930885      [Arabinda N. Dey]   \n",
       "3930976  [John Cadwaladr Owen]   \n",
       "\n",
       "                                                  assignee  \\\n",
       "3930883      Rheinisch Westfalisches Elektrizitatswerk ...   \n",
       "3930885                                     Duracell Inc     \n",
       "3930976                     Elster Metering Holdings Ltd     \n",
       "\n",
       "                                        keywords_list              status  \\\n",
       "3930883    [zinc, calcium, ion, electrode, hydroxide]  Expired - Lifetime   \n",
       "3930885     [cell, electrolyte, plunger, casing, lid]  Expired - Lifetime   \n",
       "3930976  [tube, plug, electrolyte, glass, electrical]  Expired - Lifetime   \n",
       "\n",
       "        priorArtData                             title  \\\n",
       "3930883   1969-08-16         Zinc-containing electrode   \n",
       "3930885   1973-01-11  Organic electrolyte reserve cell   \n",
       "3930976   1971-07-20          Glass electrode assembly   \n",
       "\n",
       "                                                  abstract  \\\n",
       "3930883  A zinc negative electrode for alkaline accumul...   \n",
       "3930885  A reserve cell is described for providing elec...   \n",
       "3930976  An electrochemical glass electrode comprising ...   \n",
       "\n",
       "                                                image_list  \\\n",
       "3930883  [https://patentimages.storage.googleapis.com/5...   \n",
       "3930885  [https://patentimages.storage.googleapis.com/8...   \n",
       "3930976  [https://patentimages.storage.googleapis.com/2...   \n",
       "\n",
       "                                                class_list  \\\n",
       "3930883  [H, H01, H01M, H01M4/00, H01M4/02, H01M4/24, H...   \n",
       "3930885  [H, H01, H01M, H01M6/00, H01M6/30, H01M6/36, H...   \n",
       "3930976  [G, G01, G01N, G01N27/00, G01N27/26, G01N27/28...   \n",
       "\n",
       "                                    class_description_list  year  \\\n",
       "3930883  [ELECTRICITY, BASIC ELECTRIC ELEMENTS, PROCESS...  1969   \n",
       "3930885  [ELECTRICITY, BASIC ELECTRIC ELEMENTS, PROCESS...  1973   \n",
       "3930976  [PHYSICS, MEASURING; TESTING, INVESTIGATING OR...  1971   \n",
       "\n",
       "                                  title_tokens  \\\n",
       "3930883                      [zinc, electrode]   \n",
       "3930885  [organic, electrolyte, reserve, cell]   \n",
       "3930976           [glass, electrode, assembly]   \n",
       "\n",
       "                                           abstract_tokens  \\\n",
       "3930883  [zinc, negative, electrode, alkaline, accumula...   \n",
       "3930885  [reserve, cell, energy, capable, shelf, life, ...   \n",
       "3930976  [glass, electrode, glass, membrane, seal, end,...   \n",
       "\n",
       "                                         background_tokens  \\\n",
       "3930883  [continuation, application, file, october, tur...   \n",
       "3930885  [field, reserve, energy, source, reserve, cell...   \n",
       "3930976  [application, continuation, application, file,...   \n",
       "\n",
       "                                             claims_tokens  \n",
       "3930883  [negative, electrode, alkaline, accumulator, s...  \n",
       "3930885  [organic, electrolyte, reserve, cell, cell, ca...  \n",
       "3930976  [electrode, assembly, tube, glass, terminate, ...  "
      ]
     },
     "metadata": {},
     "output_type": "display_data"
    }
   ],
   "source": [
    "tokenize_series(df, ['title', 'abstract', 'background', 'claims'])\n",
    "df=df.drop(columns=['background', 'claims'])\n",
    "display(df.head(3))"
   ]
  },
  {
   "cell_type": "code",
   "execution_count": 10,
   "metadata": {
    "ExecuteTime": {
     "end_time": "2019-11-04T20:16:09.545360Z",
     "start_time": "2019-11-04T20:16:09.526413Z"
    }
   },
   "outputs": [],
   "source": [
    "df.to_csv('data/processed/tokenized_scraped_patents.csv')"
   ]
  }
 ],
 "metadata": {
  "kernelspec": {
   "display_name": "Python 3",
   "language": "python",
   "name": "python3"
  },
  "language_info": {
   "codemirror_mode": {
    "name": "ipython",
    "version": 3
   },
   "file_extension": ".py",
   "mimetype": "text/x-python",
   "name": "python",
   "nbconvert_exporter": "python",
   "pygments_lexer": "ipython3",
   "version": "3.7.1"
  },
  "varInspector": {
   "cols": {
    "lenName": 16,
    "lenType": 16,
    "lenVar": 40
   },
   "kernels_config": {
    "python": {
     "delete_cmd_postfix": "",
     "delete_cmd_prefix": "del ",
     "library": "var_list.py",
     "varRefreshCmd": "print(var_dic_list())"
    },
    "r": {
     "delete_cmd_postfix": ") ",
     "delete_cmd_prefix": "rm(",
     "library": "var_list.r",
     "varRefreshCmd": "cat(var_dic_list()) "
    }
   },
   "types_to_exclude": [
    "module",
    "function",
    "builtin_function_or_method",
    "instance",
    "_Feature"
   ],
   "window_display": false
  }
 },
 "nbformat": 4,
 "nbformat_minor": 2
}
